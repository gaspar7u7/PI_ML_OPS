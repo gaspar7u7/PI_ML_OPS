{
 "cells": [
  {
   "cell_type": "code",
   "execution_count": null,
   "metadata": {},
   "outputs": [],
   "source": [
    "import pandas as pd\n",
    "import matplotlib.pyplot as plt\n",
    "\n",
    "# Cargar los datos de scores\n",
    "df = pd.read_csv(\"datasets/scores.csv\")\n",
    "# Cargar los datos de movies_titles\n",
    "df_titles = pd.read_csv(\"datasets/movies_titles.csv\")\n",
    "\n",
    "# Combinar los datos de scores y movies_titles usando el id de película\n",
    "df = pd.merge(df, df_titles[['movieId', 'title']], on='movieId', how='left')\n",
    "\n",
    "# Obtener el número de calificaciones por película\n",
    "movie_rating_counts = df.groupby('title')['rating'].count()\n",
    "\n",
    "# Crear un histograma de la distribución de calificaciones de películas\n",
    "plt.hist(movie_rating_counts, bins=50)\n",
    "plt.xlabel('Número de calificaciones de películas')\n",
    "plt.ylabel('Frecuencia')\n",
    "plt.title('Distribución de calificaciones de películas')\n",
    "plt.show()\n"
   ]
  }
 ],
 "metadata": {
  "language_info": {
   "name": "python"
  },
  "orig_nbformat": 4
 },
 "nbformat": 4,
 "nbformat_minor": 2
}
